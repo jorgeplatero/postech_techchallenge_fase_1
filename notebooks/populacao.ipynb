{
 "cells": [
  {
   "attachments": {},
   "cell_type": "markdown",
   "metadata": {},
   "source": [
    "# O problema\n",
    "\n",
    "Gerar relatórios iniciais a serem apresentados em uma reunião de investidores e acionistas, explicando a quantidade de vinhos exportados e os fatores externos que podem vir a surgir e que interferem nas análises:\n",
    "\n",
    "1. Dados climáticos.\n",
    "2. Dados demográficos.\n",
    "3. Dados econômicos.\n",
    "4. Dados de avaliações de vinhos.\n",
    "\n",
    "O head de dados pediram para que você construísse uma tabela contendo as seguintes informações:\n",
    "\n",
    "1. País de origem (Brasil).\n",
    "2. País de destino.\n",
    "3. Quantidade em litros de vinho exportado (utilize: 1kg = 1l).\n",
    "4. Valor em US$.\n",
    "\n",
    "Seu objetivo é dizer o montante de venda de exportação nos últimos 15 anos, separando a análise por país e trazendo quais as propecções futuras e possíveis ações para uma melhoria nas exportações. Construa gráficos atraentes e que passem a ideia central para que os acionistas e investidores possam seguir em frente com suas ações.\n",
    "\n",
    "fontes: \n",
    "\n",
    "http://vitibrasil.cnpuv.embrapa.br/index.php?opcao=opt_06\n",
    "\n",
    "https://pt.wikipedia.org/wiki/Lista_de_pa%C3%ADses_por_popula%C3%A7%C3%A3o"
   ]
  },
  {
   "attachments": {},
   "cell_type": "markdown",
   "metadata": {},
   "source": [
    "# Importando dados demográficos"
   ]
  },
  {
   "cell_type": "code",
   "execution_count": 25,
   "metadata": {},
   "outputs": [],
   "source": [
    "import warnings \n",
    "warnings.filterwarnings(action = 'ignore')"
   ]
  },
  {
   "cell_type": "code",
   "execution_count": 26,
   "metadata": {},
   "outputs": [],
   "source": [
    "import pandas as pd\n",
    "\n",
    "\n",
    "dados_populacao = pd.read_html('https://pt.wikipedia.org/wiki/Lista_de_pa%C3%ADses_por_popula%C3%A7%C3%A3o')"
   ]
  },
  {
   "cell_type": "code",
   "execution_count": 27,
   "metadata": {},
   "outputs": [
    {
     "data": {
      "text/html": [
       "<div>\n",
       "<style scoped>\n",
       "    .dataframe tbody tr th:only-of-type {\n",
       "        vertical-align: middle;\n",
       "    }\n",
       "\n",
       "    .dataframe tbody tr th {\n",
       "        vertical-align: top;\n",
       "    }\n",
       "\n",
       "    .dataframe thead th {\n",
       "        text-align: right;\n",
       "    }\n",
       "</style>\n",
       "<table border=\"1\" class=\"dataframe\">\n",
       "  <thead>\n",
       "    <tr style=\"text-align: right;\">\n",
       "      <th></th>\n",
       "      <th>Unnamed: 0</th>\n",
       "      <th>Posição</th>\n",
       "      <th>País (ou território dependente)</th>\n",
       "      <th>Estimativa da ONU</th>\n",
       "      <th>Data</th>\n",
       "      <th>Estimativa Oficial</th>\n",
       "    </tr>\n",
       "  </thead>\n",
       "  <tbody>\n",
       "    <tr>\n",
       "      <th>0</th>\n",
       "      <td>NaN</td>\n",
       "      <td>1</td>\n",
       "      <td>Índia</td>\n",
       "      <td>1 429 921 746</td>\n",
       "      <td>2023</td>\n",
       "      <td>Estimativa oficial</td>\n",
       "    </tr>\n",
       "    <tr>\n",
       "      <th>1</th>\n",
       "      <td>NaN</td>\n",
       "      <td>2</td>\n",
       "      <td>China</td>\n",
       "      <td>1 426 391 281</td>\n",
       "      <td>2023</td>\n",
       "      <td>Censo oficial</td>\n",
       "    </tr>\n",
       "    <tr>\n",
       "      <th>2</th>\n",
       "      <td>NaN</td>\n",
       "      <td>3</td>\n",
       "      <td>Estados Unidos</td>\n",
       "      <td>339 987 103</td>\n",
       "      <td>2023</td>\n",
       "      <td>Censo oficial</td>\n",
       "    </tr>\n",
       "    <tr>\n",
       "      <th>3</th>\n",
       "      <td>NaN</td>\n",
       "      <td>4</td>\n",
       "      <td>Indonésia</td>\n",
       "      <td>277 184 719</td>\n",
       "      <td>2023</td>\n",
       "      <td>Estimativa oficial</td>\n",
       "    </tr>\n",
       "    <tr>\n",
       "      <th>4</th>\n",
       "      <td>NaN</td>\n",
       "      <td>5</td>\n",
       "      <td>Paquistão</td>\n",
       "      <td>240 215 932</td>\n",
       "      <td>2023</td>\n",
       "      <td>Estimativa oficial</td>\n",
       "    </tr>\n",
       "  </tbody>\n",
       "</table>\n",
       "</div>"
      ],
      "text/plain": [
       "   Unnamed: 0 Posição País (ou território dependente) Estimativa da ONU  Data  \\\n",
       "0         NaN       1                           Índia     1 429 921 746  2023   \n",
       "1         NaN       2                           China     1 426 391 281  2023   \n",
       "2         NaN       3                  Estados Unidos       339 987 103  2023   \n",
       "3         NaN       4                       Indonésia       277 184 719  2023   \n",
       "4         NaN       5                       Paquistão       240 215 932  2023   \n",
       "\n",
       "   Estimativa Oficial  \n",
       "0  Estimativa oficial  \n",
       "1       Censo oficial  \n",
       "2       Censo oficial  \n",
       "3  Estimativa oficial  \n",
       "4  Estimativa oficial  "
      ]
     },
     "execution_count": 27,
     "metadata": {},
     "output_type": "execute_result"
    }
   ],
   "source": [
    "dados_populacao = dados_populacao[0]\n",
    "dados_populacao.head()"
   ]
  },
  {
   "attachments": {},
   "cell_type": "markdown",
   "metadata": {},
   "source": [
    "## Tratando dados"
   ]
  },
  {
   "cell_type": "code",
   "execution_count": 28,
   "metadata": {},
   "outputs": [],
   "source": [
    "dados_populacao.drop(['Unnamed: 0',\t'Posição', 'Estimativa Oficial', 'Data'], axis = 1, inplace = True)"
   ]
  },
  {
   "cell_type": "code",
   "execution_count": 29,
   "metadata": {},
   "outputs": [
    {
     "data": {
      "text/html": [
       "<div>\n",
       "<style scoped>\n",
       "    .dataframe tbody tr th:only-of-type {\n",
       "        vertical-align: middle;\n",
       "    }\n",
       "\n",
       "    .dataframe tbody tr th {\n",
       "        vertical-align: top;\n",
       "    }\n",
       "\n",
       "    .dataframe thead th {\n",
       "        text-align: right;\n",
       "    }\n",
       "</style>\n",
       "<table border=\"1\" class=\"dataframe\">\n",
       "  <thead>\n",
       "    <tr style=\"text-align: right;\">\n",
       "      <th></th>\n",
       "      <th>País (ou território dependente)</th>\n",
       "      <th>Estimativa da ONU</th>\n",
       "    </tr>\n",
       "  </thead>\n",
       "  <tbody>\n",
       "    <tr>\n",
       "      <th>0</th>\n",
       "      <td>Índia</td>\n",
       "      <td>1 429 921 746</td>\n",
       "    </tr>\n",
       "    <tr>\n",
       "      <th>1</th>\n",
       "      <td>China</td>\n",
       "      <td>1 426 391 281</td>\n",
       "    </tr>\n",
       "    <tr>\n",
       "      <th>2</th>\n",
       "      <td>Estados Unidos</td>\n",
       "      <td>339 987 103</td>\n",
       "    </tr>\n",
       "    <tr>\n",
       "      <th>3</th>\n",
       "      <td>Indonésia</td>\n",
       "      <td>277 184 719</td>\n",
       "    </tr>\n",
       "    <tr>\n",
       "      <th>4</th>\n",
       "      <td>Paquistão</td>\n",
       "      <td>240 215 932</td>\n",
       "    </tr>\n",
       "  </tbody>\n",
       "</table>\n",
       "</div>"
      ],
      "text/plain": [
       "  País (ou território dependente) Estimativa da ONU\n",
       "0                           Índia     1 429 921 746\n",
       "1                           China     1 426 391 281\n",
       "2                  Estados Unidos       339 987 103\n",
       "3                       Indonésia       277 184 719\n",
       "4                       Paquistão       240 215 932"
      ]
     },
     "execution_count": 29,
     "metadata": {},
     "output_type": "execute_result"
    }
   ],
   "source": [
    "dados_populacao.head()"
   ]
  },
  {
   "cell_type": "code",
   "execution_count": 30,
   "metadata": {},
   "outputs": [],
   "source": [
    "dados_populacao = dados_populacao.sort_values(by = 'País (ou território dependente)').reset_index(drop = True)"
   ]
  },
  {
   "cell_type": "code",
   "execution_count": 31,
   "metadata": {},
   "outputs": [
    {
     "data": {
      "text/html": [
       "<div>\n",
       "<style scoped>\n",
       "    .dataframe tbody tr th:only-of-type {\n",
       "        vertical-align: middle;\n",
       "    }\n",
       "\n",
       "    .dataframe tbody tr th {\n",
       "        vertical-align: top;\n",
       "    }\n",
       "\n",
       "    .dataframe thead th {\n",
       "        text-align: right;\n",
       "    }\n",
       "</style>\n",
       "<table border=\"1\" class=\"dataframe\">\n",
       "  <thead>\n",
       "    <tr style=\"text-align: right;\">\n",
       "      <th></th>\n",
       "      <th>pais</th>\n",
       "      <th>populacao</th>\n",
       "    </tr>\n",
       "  </thead>\n",
       "  <tbody>\n",
       "    <tr>\n",
       "      <th>0</th>\n",
       "      <td>Abecásia (Geórgia)</td>\n",
       "      <td>245 424</td>\n",
       "    </tr>\n",
       "    <tr>\n",
       "      <th>1</th>\n",
       "      <td>Afeganistão</td>\n",
       "      <td>38 928 346</td>\n",
       "    </tr>\n",
       "    <tr>\n",
       "      <th>2</th>\n",
       "      <td>Albânia</td>\n",
       "      <td>2 877 797</td>\n",
       "    </tr>\n",
       "    <tr>\n",
       "      <th>3</th>\n",
       "      <td>Alemanha</td>\n",
       "      <td>83 783 942</td>\n",
       "    </tr>\n",
       "    <tr>\n",
       "      <th>4</th>\n",
       "      <td>Andorra</td>\n",
       "      <td>77 265</td>\n",
       "    </tr>\n",
       "  </tbody>\n",
       "</table>\n",
       "</div>"
      ],
      "text/plain": [
       "                 pais   populacao\n",
       "0  Abecásia (Geórgia)     245 424\n",
       "1         Afeganistão  38 928 346\n",
       "2             Albânia   2 877 797\n",
       "3            Alemanha  83 783 942\n",
       "4             Andorra      77 265"
      ]
     },
     "execution_count": 31,
     "metadata": {},
     "output_type": "execute_result"
    }
   ],
   "source": [
    "dados_populacao.columns = ['pais', 'populacao']\n",
    "dados_populacao.head()"
   ]
  },
  {
   "cell_type": "code",
   "execution_count": 32,
   "metadata": {},
   "outputs": [
    {
     "name": "stdout",
     "output_type": "stream",
     "text": [
      "<class 'pandas.core.frame.DataFrame'>\n",
      "RangeIndex: 250 entries, 0 to 249\n",
      "Data columns (total 2 columns):\n",
      " #   Column     Non-Null Count  Dtype \n",
      "---  ------     --------------  ----- \n",
      " 0   pais       250 non-null    object\n",
      " 1   populacao  250 non-null    object\n",
      "dtypes: object(2)\n",
      "memory usage: 4.0+ KB\n"
     ]
    }
   ],
   "source": [
    "dados_populacao.info()"
   ]
  },
  {
   "cell_type": "code",
   "execution_count": 33,
   "metadata": {},
   "outputs": [
    {
     "data": {
      "text/html": [
       "<div>\n",
       "<style scoped>\n",
       "    .dataframe tbody tr th:only-of-type {\n",
       "        vertical-align: middle;\n",
       "    }\n",
       "\n",
       "    .dataframe tbody tr th {\n",
       "        vertical-align: top;\n",
       "    }\n",
       "\n",
       "    .dataframe thead th {\n",
       "        text-align: right;\n",
       "    }\n",
       "</style>\n",
       "<table border=\"1\" class=\"dataframe\">\n",
       "  <thead>\n",
       "    <tr style=\"text-align: right;\">\n",
       "      <th></th>\n",
       "      <th>pais</th>\n",
       "      <th>populacao</th>\n",
       "    </tr>\n",
       "  </thead>\n",
       "  <tbody>\n",
       "    <tr>\n",
       "      <th>0</th>\n",
       "      <td>Abecásia (Geórgia)</td>\n",
       "      <td>245424</td>\n",
       "    </tr>\n",
       "    <tr>\n",
       "      <th>1</th>\n",
       "      <td>Afeganistão</td>\n",
       "      <td>38928346</td>\n",
       "    </tr>\n",
       "    <tr>\n",
       "      <th>2</th>\n",
       "      <td>Albânia</td>\n",
       "      <td>2877797</td>\n",
       "    </tr>\n",
       "    <tr>\n",
       "      <th>3</th>\n",
       "      <td>Alemanha</td>\n",
       "      <td>83783942</td>\n",
       "    </tr>\n",
       "    <tr>\n",
       "      <th>4</th>\n",
       "      <td>Andorra</td>\n",
       "      <td>77265</td>\n",
       "    </tr>\n",
       "  </tbody>\n",
       "</table>\n",
       "</div>"
      ],
      "text/plain": [
       "                 pais  populacao\n",
       "0  Abecásia (Geórgia)     245424\n",
       "1         Afeganistão   38928346\n",
       "2             Albânia    2877797\n",
       "3            Alemanha   83783942\n",
       "4             Andorra      77265"
      ]
     },
     "execution_count": 33,
     "metadata": {},
     "output_type": "execute_result"
    }
   ],
   "source": [
    "dados_populacao['populacao'] = dados_populacao['populacao'].str.replace(' ', '').astype(int)\n",
    "dados_populacao.head()"
   ]
  },
  {
   "cell_type": "code",
   "execution_count": 34,
   "metadata": {},
   "outputs": [],
   "source": [
    "from unidecode import unidecode\n",
    "\n",
    "\n",
    "#função para remover acentos\n",
    "def remover_acentos(texto):\n",
    "    texto_sem_acentos = unidecode(texto)\n",
    "    return texto_sem_acentos\n",
    "\n",
    "#função para padronizar os nomes dos países\n",
    "\n",
    "def padronizar_nome_pais(nome_pais):\n",
    "    padroes = {\n",
    "        'Alemanha, Republica Democratica': 'Alemanha',\n",
    "        'Alemanha, Republica Democratica da': 'Alemanha',\n",
    "        'Belice': 'Belize',\n",
    "        'Belize': 'Belize',\n",
    "        'Camaroes': 'Camaroes',\n",
    "        'Camores': 'Camaroes',\n",
    "        'Coreia do Sul, Republica da': 'Coreia do Sul',\n",
    "        'Coreia do Sul, Republica': 'Coreia do Sul',\n",
    "        'Coreia do Sul': 'Coreia do Sul',\n",
    "        'Coreia, Republica Sul': 'Coreia do Sul',\n",
    "        'Coreia, Republica Sul': 'Coreia do Sul',\n",
    "        'Dominica': 'Dominica',\n",
    "        'Dominica, Ilha de': 'Dominica',\n",
    "        'Eslovaca, Republica': 'Eslovaquia',\n",
    "        'Falkland (Ilhas Malvinas)': 'Ilhas Malvinas',\n",
    "        'Falkland (Malvinas)': 'Ilhas Malvinas',\n",
    "        'Filanldia': 'Finlandia',\n",
    "        'Finlandia': 'Finlandia',\n",
    "        'Guine Bissau': 'Guine-Bissau',\n",
    "        'Guine Bissau': 'Guine-Bissau',\n",
    "        'Cayman, Ilhas': 'Ilhas Cayman',\n",
    "        'Marshall, Ilhas': 'Ilhas Marshall',\n",
    "        'Paises Baixos': 'Holanda',\n",
    "        'Paises Baixos (Holanda)': 'Holanda',\n",
    "        'Russia': 'Rússia',\n",
    "        'Russia, Federacao da': 'Rússia',\n",
    "        'Republica Federativa da Russia': 'Rússia',\n",
    "        'Taiwan (FORMOSA)': 'Taiwan',\n",
    "        'Taiwan (Formosa)': 'Taiwan',\n",
    "        'Trindade e Tobago': 'Trindade e Tobago',\n",
    "        'Trinidade Tobago': 'Trindade e Tobago',\n",
    "        'Trinidade e Tobago': 'Trindade e Tobago',\n",
    "        'Tcheca, Republica': 'Republica Tcheca',\n",
    "        'Georgia do Sul e Sandwich do Sul, Ilhas': 'Ilhas Georgia do Sul e Sandwich do Sul'\n",
    "    }\n",
    "\n",
    "    if nome_pais in padroes:\n",
    "        return padroes[nome_pais]\n",
    "    else:\n",
    "        return nome_pais\n",
    "        \n",
    "dados_populacao['pais'] = dados_populacao['pais'].apply(remover_acentos)\n",
    "dados_populacao['pais'] = dados_populacao['pais'].apply(padronizar_nome_pais)"
   ]
  },
  {
   "cell_type": "code",
   "execution_count": 35,
   "metadata": {},
   "outputs": [
    {
     "data": {
      "text/html": [
       "<div>\n",
       "<style scoped>\n",
       "    .dataframe tbody tr th:only-of-type {\n",
       "        vertical-align: middle;\n",
       "    }\n",
       "\n",
       "    .dataframe tbody tr th {\n",
       "        vertical-align: top;\n",
       "    }\n",
       "\n",
       "    .dataframe thead th {\n",
       "        text-align: right;\n",
       "    }\n",
       "</style>\n",
       "<table border=\"1\" class=\"dataframe\">\n",
       "  <thead>\n",
       "    <tr style=\"text-align: right;\">\n",
       "      <th></th>\n",
       "      <th>pais</th>\n",
       "      <th>populacao</th>\n",
       "    </tr>\n",
       "  </thead>\n",
       "  <tbody>\n",
       "    <tr>\n",
       "      <th>0</th>\n",
       "      <td>Abecasia (Georgia)</td>\n",
       "      <td>245424</td>\n",
       "    </tr>\n",
       "    <tr>\n",
       "      <th>1</th>\n",
       "      <td>Afeganistao</td>\n",
       "      <td>38928346</td>\n",
       "    </tr>\n",
       "    <tr>\n",
       "      <th>2</th>\n",
       "      <td>Albania</td>\n",
       "      <td>2877797</td>\n",
       "    </tr>\n",
       "    <tr>\n",
       "      <th>3</th>\n",
       "      <td>Alemanha</td>\n",
       "      <td>83783942</td>\n",
       "    </tr>\n",
       "    <tr>\n",
       "      <th>4</th>\n",
       "      <td>Andorra</td>\n",
       "      <td>77265</td>\n",
       "    </tr>\n",
       "  </tbody>\n",
       "</table>\n",
       "</div>"
      ],
      "text/plain": [
       "                 pais  populacao\n",
       "0  Abecasia (Georgia)     245424\n",
       "1         Afeganistao   38928346\n",
       "2             Albania    2877797\n",
       "3            Alemanha   83783942\n",
       "4             Andorra      77265"
      ]
     },
     "execution_count": 35,
     "metadata": {},
     "output_type": "execute_result"
    }
   ],
   "source": [
    "dados_populacao.head()"
   ]
  },
  {
   "attachments": {},
   "cell_type": "markdown",
   "metadata": {},
   "source": [
    "## Exportando dados"
   ]
  },
  {
   "cell_type": "code",
   "execution_count": 36,
   "metadata": {},
   "outputs": [],
   "source": [
    "dados_populacao.to_csv('../dados/populacao_util.csv', index = False)"
   ]
  }
 ],
 "metadata": {
  "kernelspec": {
   "display_name": "base",
   "language": "python",
   "name": "python3"
  },
  "language_info": {
   "codemirror_mode": {
    "name": "ipython",
    "version": 3
   },
   "file_extension": ".py",
   "mimetype": "text/x-python",
   "name": "python",
   "nbconvert_exporter": "python",
   "pygments_lexer": "ipython3",
   "version": "3.11.4"
  },
  "orig_nbformat": 4
 },
 "nbformat": 4,
 "nbformat_minor": 2
}
